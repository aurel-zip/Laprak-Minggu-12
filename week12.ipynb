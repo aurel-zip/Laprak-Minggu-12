{
  "nbformat": 4,
  "nbformat_minor": 0,
  "metadata": {
    "colab": {
      "provenance": []
    },
    "kernelspec": {
      "name": "python3",
      "display_name": "Python 3"
    },
    "language_info": {
      "name": "python"
    }
  },
  "cells": [
    {
      "cell_type": "code",
      "source": [
        "def luas_lingkaran():\n",
        "  phi = 3.14\n",
        "  try:\n",
        "    jarijari = float(input(\"Masukkan angka jari-jari : \"))\n",
        "    print(\"Luas lingkaran = \" , phi * jarijari * jarijari)\n",
        "  except:\n",
        "    print(\"Hanya boleh memasukkan angka\")\n",
        "\n",
        "def luas_persegi():\n",
        "  try:\n",
        "    sisi = float(input(\"Masukkan angka sisi : \"))\n",
        "    print(\"Luas persegi = \" , sisi * sisi)\n",
        "  except:\n",
        "    print(\"Hanya boleh memasukkan angka\")\n",
        "\n",
        "def luas_segitiga():\n",
        "  try:\n",
        "    alas = float(input(\"Masukkan angka alas : \"))\n",
        "    tinggi = float(input(\"Masukkan angka tinggi : \"))\n",
        "    print(\"Luas segitiga = \" , 0.5 * alas * tinggi)\n",
        "  except:\n",
        "    print(\"Hanya boleh memasukkan angka\")\n",
        "\n",
        "def kalkulator():\n",
        "  while True:\n",
        "    print(\"\\nKalkulator Luas\")\n",
        "    print(\"1. Luas Lingkaran\")\n",
        "    print(\"2. Luas Persegi\")\n",
        "    print(\"3. Luas Segitiga\")\n",
        "    print(\"4. Keluar\")\n",
        "\n",
        "    x = input(\"Pilih operasi (1/2/3/4): \")\n",
        "\n",
        "    if x == '1':\n",
        "      luas_lingkaran()\n",
        "    elif x == '2':\n",
        "      luas_persegi()\n",
        "    elif x == '3':\n",
        "      luas_segitiga()\n",
        "    elif x == '4':\n",
        "      print(\"Terima kasih! Sampai jumpa.\")\n",
        "      break\n",
        "    else:\n",
        "      print(\"Input tidak valid. Silakan coba lagi.\")\n",
        "\n",
        "kalkulator()"
      ],
      "metadata": {
        "colab": {
          "base_uri": "https://localhost:8080/"
        },
        "id": "qFx3hr2chle9",
        "outputId": "5ff20c01-f81b-47e5-e8d9-35147fd0d571"
      },
      "execution_count": 3,
      "outputs": [
        {
          "output_type": "stream",
          "name": "stdout",
          "text": [
            "\n",
            "Kalkulator Luas\n",
            "1. Luas Lingkaran\n",
            "2. Luas Persegi\n",
            "3. Luas Segitiga\n",
            "4. Keluar\n",
            "Pilih operasi (1/2/3/4): 3\n",
            "Masukkan angka alas : 13\n",
            "Masukkan angka tinggi : 17\n",
            "Luas segitiga =  110.5\n",
            "\n",
            "Kalkulator Luas\n",
            "1. Luas Lingkaran\n",
            "2. Luas Persegi\n",
            "3. Luas Segitiga\n",
            "4. Keluar\n",
            "Pilih operasi (1/2/3/4): 1\n",
            "Masukkan angka jari-jari : tujuh belas\n",
            "Hanya boleh memasukkan angka\n",
            "\n",
            "Kalkulator Luas\n",
            "1. Luas Lingkaran\n",
            "2. Luas Persegi\n",
            "3. Luas Segitiga\n",
            "4. Keluar\n",
            "Pilih operasi (1/2/3/4): 1\n",
            "Masukkan angka jari-jari : 17\n",
            "Luas lingkaran =  907.46\n",
            "\n",
            "Kalkulator Luas\n",
            "1. Luas Lingkaran\n",
            "2. Luas Persegi\n",
            "3. Luas Segitiga\n",
            "4. Keluar\n",
            "Pilih operasi (1/2/3/4): 2\n",
            "Masukkan angka sisi : delapan\n",
            "Hanya boleh memasukkan angka\n",
            "\n",
            "Kalkulator Luas\n",
            "1. Luas Lingkaran\n",
            "2. Luas Persegi\n",
            "3. Luas Segitiga\n",
            "4. Keluar\n",
            "Pilih operasi (1/2/3/4): 2\n",
            "Masukkan angka sisi : 8\n",
            "Luas persegi =  64.0\n",
            "\n",
            "Kalkulator Luas\n",
            "1. Luas Lingkaran\n",
            "2. Luas Persegi\n",
            "3. Luas Segitiga\n",
            "4. Keluar\n",
            "Pilih operasi (1/2/3/4): 4\n",
            "Terima kasih! Sampai jumpa.\n"
          ]
        }
      ]
    },
    {
      "cell_type": "code",
      "source": [
        "try:\n",
        "  npm = input(\"Masukkan NPM = \")\n",
        "  genap = 0\n",
        "  ganjil = 0\n",
        "\n",
        "  for i in npm:\n",
        "    if int(i) % 2 == 0:\n",
        "      genap += 1\n",
        "    else:\n",
        "      ganjil += 1\n",
        "\n",
        "  print(\"Jumlah digit genap = \", genap)\n",
        "  print(\"Jumlah digit ganjil = \", ganjil)\n",
        "except:\n",
        "  print(\"Masukkan angka NPM\")"
      ],
      "metadata": {
        "colab": {
          "base_uri": "https://localhost:8080/"
        },
        "id": "mizOcGCnj_0t",
        "outputId": "ac1eb6c2-51af-49f4-d5e9-7561d171cfbc"
      },
      "execution_count": 6,
      "outputs": [
        {
          "output_type": "stream",
          "name": "stdout",
          "text": [
            "Masukkan NPM = seventeen\n",
            "Masukkan angka NPM\n"
          ]
        }
      ]
    },
    {
      "cell_type": "code",
      "source": [
        "try:\n",
        "  npm = input(\"Masukkan NPM = \")\n",
        "  genap = 0\n",
        "  ganjil = 0\n",
        "\n",
        "  for i in npm:\n",
        "    if int(i) % 2 == 0:\n",
        "      genap += 1\n",
        "    else:\n",
        "      ganjil += 1\n",
        "\n",
        "  print(\"Jumlah digit genap = \", genap)\n",
        "  print(\"Jumlah digit ganjil = \", ganjil)\n",
        "except:\n",
        "  print(\"Masukkan angka NPM\")"
      ],
      "metadata": {
        "colab": {
          "base_uri": "https://localhost:8080/"
        },
        "id": "FYreyXaonOPL",
        "outputId": "1b54ee45-e2c3-41d5-f4f1-24839c630e0e"
      },
      "execution_count": 7,
      "outputs": [
        {
          "output_type": "stream",
          "name": "stdout",
          "text": [
            "Masukkan NPM = 2420506045\n",
            "Jumlah digit genap =  8\n",
            "Jumlah digit ganjil =  2\n"
          ]
        }
      ]
    }
  ]
}